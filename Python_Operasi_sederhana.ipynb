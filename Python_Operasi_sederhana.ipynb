{
  "nbformat": 4,
  "nbformat_minor": 0,
  "metadata": {
    "colab": {
      "name": "Operasi sederhana.ipynb",
      "provenance": [],
      "authorship_tag": "ABX9TyOA2n94xyiSucuZZbNou144",
      "include_colab_link": true
    },
    "kernelspec": {
      "name": "python3",
      "display_name": "Python 3"
    }
  },
  "cells": [
    {
      "cell_type": "markdown",
      "metadata": {
        "id": "view-in-github",
        "colab_type": "text"
      },
      "source": [
        "<a href=\"https://colab.research.google.com/github/abdulfatahhamidah/learnMachineLearning/blob/master/Python_Operasi_sederhana.ipynb\" target=\"_parent\"><img src=\"https://colab.research.google.com/assets/colab-badge.svg\" alt=\"Open In Colab\"/></a>"
      ]
    },
    {
      "cell_type": "markdown",
      "metadata": {
        "id": "DczOEz1W1WYC",
        "colab_type": "text"
      },
      "source": [
        "#Penjelasan Awal\n",
        "<p>operasi sederhana pada python </p>\n",
        "tanda '=' digunakan untuk mengisi sebuah variable<br>\n",
        "dibawah ini kita akan mempelajari penulisan string, variable content"
      ]
    },
    {
      "cell_type": "code",
      "metadata": {
        "id": "CWOItN6x2uPD",
        "colab_type": "code",
        "colab": {}
      },
      "source": [
        "a = 10\n",
        "b = 12\n",
        "c = a + b\n",
        "print(\"hasil a + b =\", c)"
      ],
      "execution_count": null,
      "outputs": []
    },
    {
      "cell_type": "markdown",
      "metadata": {
        "id": "2Wpuln8v5Gdm",
        "colab_type": "text"
      },
      "source": [
        "dibawah ini terlihat bahwa saat variable c diberi tanda '' menghasilkan output c<br>\n",
        "sedangkan saat langsung variable ditulis c maka menghasilkan output 22, 22 meruapakn nilai yang dikandung oleh variable c\n"
      ]
    },
    {
      "cell_type": "code",
      "metadata": {
        "id": "m-B-Su0x3cLo",
        "colab_type": "code",
        "colab": {}
      },
      "source": [
        "a = 10\n",
        "b = 12\n",
        "c = a+b\n",
        "print(c, 'c')"
      ],
      "execution_count": null,
      "outputs": []
    },
    {
      "cell_type": "markdown",
      "metadata": {
        "id": "nWwWVhfn5n9S",
        "colab_type": "text"
      },
      "source": [
        "merubah type data angka menjadi string dengan menggunakan mode str()"
      ]
    },
    {
      "cell_type": "code",
      "metadata": {
        "id": "ggqeF28K5y5L",
        "colab_type": "code",
        "colab": {}
      },
      "source": [
        "a = 10 \n",
        "b = 12\n",
        "c = a + b\n",
        "d = \"hasilnya adalah\"\n",
        "print (d, a)"
      ],
      "execution_count": null,
      "outputs": []
    },
    {
      "cell_type": "markdown",
      "metadata": {
        "id": "NcoFc-yx6Gqt",
        "colab_type": "text"
      },
      "source": [
        "penjumlahan dua buah string<br>\n",
        "sebuah string ditandai dengan ' atau \""
      ]
    },
    {
      "cell_type": "code",
      "metadata": {
        "id": "VWURo8vv6JKK",
        "colab_type": "code",
        "colab": {
          "base_uri": "https://localhost:8080/",
          "height": 34
        },
        "outputId": "7c9461af-4bd4-4540-986d-4f33fe981dac"
      },
      "source": [
        "a = \"selamat \"\n",
        "b = 'datang'\n",
        "print (a+b)"
      ],
      "execution_count": null,
      "outputs": [
        {
          "output_type": "stream",
          "text": [
            "selamat datang\n"
          ],
          "name": "stdout"
        }
      ]
    },
    {
      "cell_type": "markdown",
      "metadata": {
        "id": "1M_0K1IK6gSZ",
        "colab_type": "text"
      },
      "source": [
        "menjumlahkan sebuah string dan angka akan menghasilkan sebuah error"
      ]
    },
    {
      "cell_type": "code",
      "metadata": {
        "id": "apK_0jUH6nDH",
        "colab_type": "code",
        "colab": {
          "base_uri": "https://localhost:8080/",
          "height": 197
        },
        "outputId": "65278fed-9f45-4263-8dcc-812a5235f0a9"
      },
      "source": [
        "a = \"selamat datang\"\n",
        "b = 5\n",
        "print(a + b)"
      ],
      "execution_count": null,
      "outputs": [
        {
          "output_type": "error",
          "ename": "TypeError",
          "evalue": "ignored",
          "traceback": [
            "\u001b[0;31m---------------------------------------------------------------------------\u001b[0m",
            "\u001b[0;31mTypeError\u001b[0m                                 Traceback (most recent call last)",
            "\u001b[0;32m<ipython-input-8-8d1673af8e1d>\u001b[0m in \u001b[0;36m<module>\u001b[0;34m()\u001b[0m\n\u001b[1;32m      1\u001b[0m \u001b[0ma\u001b[0m \u001b[0;34m=\u001b[0m \u001b[0;34m\"selamat datang\"\u001b[0m\u001b[0;34m\u001b[0m\u001b[0;34m\u001b[0m\u001b[0m\n\u001b[1;32m      2\u001b[0m \u001b[0mb\u001b[0m \u001b[0;34m=\u001b[0m \u001b[0;36m5\u001b[0m\u001b[0;34m\u001b[0m\u001b[0;34m\u001b[0m\u001b[0m\n\u001b[0;32m----> 3\u001b[0;31m \u001b[0mprint\u001b[0m\u001b[0;34m(\u001b[0m\u001b[0ma\u001b[0m \u001b[0;34m+\u001b[0m \u001b[0mb\u001b[0m\u001b[0;34m)\u001b[0m\u001b[0;34m\u001b[0m\u001b[0;34m\u001b[0m\u001b[0m\n\u001b[0m",
            "\u001b[0;31mTypeError\u001b[0m: must be str, not int"
          ]
        }
      ]
    },
    {
      "cell_type": "markdown",
      "metadata": {
        "id": "w0w0YhJT6xPD",
        "colab_type": "text"
      },
      "source": [
        "solusinya kita harus mengubah tipe data dari angka menjadi sebuah string <br>\n",
        "mode yang digunakan adalah str()"
      ]
    },
    {
      "cell_type": "code",
      "metadata": {
        "id": "UWzRfy8F66JI",
        "colab_type": "code",
        "colab": {
          "base_uri": "https://localhost:8080/",
          "height": 34
        },
        "outputId": "f7da16e8-5a58-48ff-8b0b-e57abc0d95f9"
      },
      "source": [
        "a = \"selamat datang \"\n",
        "b = 5\n",
        "\n",
        "print (a+str(b))"
      ],
      "execution_count": null,
      "outputs": [
        {
          "output_type": "stream",
          "text": [
            "selamat datang 5\n"
          ],
          "name": "stdout"
        }
      ]
    },
    {
      "cell_type": "code",
      "metadata": {
        "id": "J6O8njsa7CHw",
        "colab_type": "code",
        "colab": {}
      },
      "source": [
        ""
      ],
      "execution_count": null,
      "outputs": []
    }
  ]
}