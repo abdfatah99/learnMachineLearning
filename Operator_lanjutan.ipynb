{
  "nbformat": 4,
  "nbformat_minor": 0,
  "metadata": {
    "colab": {
      "name": "Operator_lanjutan.ipynb",
      "provenance": [],
      "authorship_tag": "ABX9TyMZYjip7aGdRx5jCb0YbNhB",
      "include_colab_link": true
    },
    "kernelspec": {
      "name": "python3",
      "display_name": "Python 3"
    }
  },
  "cells": [
    {
      "cell_type": "markdown",
      "metadata": {
        "id": "view-in-github",
        "colab_type": "text"
      },
      "source": [
        "<a href=\"https://colab.research.google.com/github/abdulfatahhamidah/learnMachineLearning/blob/master/Operator_lanjutan.ipynb\" target=\"_parent\"><img src=\"https://colab.research.google.com/assets/colab-badge.svg\" alt=\"Open In Colab\"/></a>"
      ]
    },
    {
      "cell_type": "markdown",
      "metadata": {
        "id": "gkbLPlpzu2jJ"
      },
      "source": [
        "#<b>Operator-operator yang digunakan pada python\n",
        "\n"
      ]
    },
    {
      "cell_type": "markdown",
      "metadata": {
        "id": "ZhM0neokyLyW"
      },
      "source": [
        "# Penjumlahan"
      ]
    },
    {
      "cell_type": "code",
      "metadata": {
        "id": "SuPWYposuwKH",
        "outputId": "f07609d2-32ce-4437-a122-ff7ee300c651",
        "colab": {
          "base_uri": "https://localhost:8080/",
          "height": 34
        }
      },
      "source": [
        "a = 3 + 3\n",
        "print (\"a =\", a)"
      ],
      "execution_count": 1,
      "outputs": [
        {
          "output_type": "stream",
          "text": [
            "a = 6\n"
          ],
          "name": "stdout"
        }
      ]
    },
    {
      "cell_type": "markdown",
      "metadata": {
        "id": "KGkAfF-oyf1Z"
      },
      "source": [
        "# Pengurangan"
      ]
    },
    {
      "cell_type": "code",
      "metadata": {
        "id": "78K3PdDiye9p",
        "outputId": "6add0a7c-3cff-4bd5-d9d0-964b9210e15f",
        "colab": {
          "base_uri": "https://localhost:8080/",
          "height": 34
        }
      },
      "source": [
        "b = 5 - 2\n",
        "print (\"b =\", b)"
      ],
      "execution_count": 14,
      "outputs": [
        {
          "output_type": "stream",
          "text": [
            "b = 3\n"
          ],
          "name": "stdout"
        }
      ]
    },
    {
      "cell_type": "markdown",
      "metadata": {
        "id": "5ApJZEsdy0Wy"
      },
      "source": [
        "# Perkalian"
      ]
    },
    {
      "cell_type": "code",
      "metadata": {
        "id": "BFzxAsQly0Dv",
        "outputId": "6a2ca893-d089-45e8-c3af-257d48aa05a8",
        "colab": {
          "base_uri": "https://localhost:8080/",
          "height": 34
        }
      },
      "source": [
        "c = 5 * 10\n",
        "print (\"c =\", c)"
      ],
      "execution_count": 3,
      "outputs": [
        {
          "output_type": "stream",
          "text": [
            "c =  50\n"
          ],
          "name": "stdout"
        }
      ]
    },
    {
      "cell_type": "markdown",
      "metadata": {
        "id": "pqoAEIAHzC78"
      },
      "source": [
        "# Pembagian <br>\n",
        "catatan untuk pembagian \n",
        "+ hasil yang ditampilkan oleh python  secara otomatis akan ditampilkan menjadi float \n",
        "+ sisa pembagian(modulus) menggunakan tanda %\n"
      ]
    },
    {
      "cell_type": "code",
      "metadata": {
        "id": "6_yJtI7SyzCm",
        "outputId": "7d25e709-b92e-4107-82de-c99e86883ac9",
        "colab": {
          "base_uri": "https://localhost:8080/",
          "height": 51
        }
      },
      "source": [
        "d = 10 / 2\n",
        "print(\"d =\", d)\n",
        "\n",
        "modulus = 10 % 7 \n",
        "print (\"sisa pembagian 10/7 = \", modulus)"
      ],
      "execution_count": 15,
      "outputs": [
        {
          "output_type": "stream",
          "text": [
            "d = 5.0\n",
            "sisa pembagian 10/7 =  3\n"
          ],
          "name": "stdout"
        }
      ]
    },
    {
      "cell_type": "markdown",
      "metadata": {
        "id": "NZVQobc90AAv"
      },
      "source": [
        "python juga dapat mendeteksi secara langsung apabila penjumlahan antara integer + float, maka hasilnya adalah float"
      ]
    },
    {
      "cell_type": "code",
      "metadata": {
        "id": "cs1gC04Bzz1T",
        "outputId": "f8c87249-8b0d-45c4-d1b5-83f9a41a5c9d",
        "colab": {
          "base_uri": "https://localhost:8080/",
          "height": 34
        }
      },
      "source": [
        "e = 7 + 4.0\n",
        "print(\"e =\", e)"
      ],
      "execution_count": 7,
      "outputs": [
        {
          "output_type": "stream",
          "text": [
            "e = 11.0\n"
          ],
          "name": "stdout"
        }
      ]
    },
    {
      "cell_type": "markdown",
      "metadata": {
        "id": "VdqXklc_0kdm"
      },
      "source": [
        "Sesuai dengan operasi pada matematika dasar, pyhton mendahulukan perkalian&pembagian dibanding dengan penjumlahan&pengurangan <br>\n",
        "Apabila ingin mendahulukan penjumlahan&pengurangan, maka digunakan tanda kurung () sebagai operasi utama"
      ]
    },
    {
      "cell_type": "code",
      "metadata": {
        "id": "mQWvxO2Y0wW8",
        "outputId": "7e7f9d1d-814d-4208-9525-b64bf46f8556",
        "colab": {
          "base_uri": "https://localhost:8080/",
          "height": 51
        }
      },
      "source": [
        "f = 5 + 10 * 2\n",
        "g = (5 + 10) * 2\n",
        "\n",
        "print(\"hasil penjumlahan dan perkalian  = \", f)\n",
        "print(\"hasil penjumlahan menggunakan () = \", g)"
      ],
      "execution_count": 9,
      "outputs": [
        {
          "output_type": "stream",
          "text": [
            "hasil penjumlahan dan perkalian  =  25\n",
            "hasil penjumlahan menggunakan () =  30\n"
          ],
          "name": "stdout"
        }
      ]
    },
    {
      "cell_type": "markdown",
      "metadata": {
        "id": "Bn0SKZ5u4O12"
      },
      "source": [
        "python juga dapat melakukan pembulatan pembagian menjadi bilangan bulat "
      ]
    },
    {
      "cell_type": "code",
      "metadata": {
        "id": "JPN72ZX_4VNL",
        "outputId": "b0c1728c-bc36-4433-df85-1de1b856ee72",
        "colab": {
          "base_uri": "https://localhost:8080/",
          "height": 51
        }
      },
      "source": [
        "i = 10 / 7 \n",
        "j = 10 // 7 \n",
        "\n",
        "print (\"hasil pembagian normal            =\", i)\n",
        "print (\"hasil pembagian dengan pembulatan =\", j)"
      ],
      "execution_count": 24,
      "outputs": [
        {
          "output_type": "stream",
          "text": [
            "hasil pembagian normal            = 1.4285714285714286\n",
            "hasil pembagian dengan pembulatan = 1 <class 'int'>\n"
          ],
          "name": "stdout"
        }
      ]
    },
    {
      "cell_type": "markdown",
      "metadata": {
        "id": "FyvIODwu4ydT"
      },
      "source": [
        "#pangkat \n",
        "+ untuk mengkombinasikan pangkat dengan penjumlahan/pengurangan dan ingin mendahulukan penjumlahan, maka gunakan tanda kurung () "
      ]
    },
    {
      "cell_type": "code",
      "metadata": {
        "id": "pUIpvjas41Nv",
        "outputId": "f6e6d113-1895-47fe-b3c0-f0cd8b6dc6d1",
        "colab": {
          "base_uri": "https://localhost:8080/",
          "height": 68
        }
      },
      "source": [
        "k = 5 ** 2\n",
        "print (\"hasil perpangkatan =\", k)\n",
        "\n",
        "l = (3+2) ** 2\n",
        "m = 3 + 2 ** 2\n",
        "print (\"hasil menggunakan tanda kurung = \", l)\n",
        "print (\"hasil tanpa tanda kurung = \", m)"
      ],
      "execution_count": 19,
      "outputs": [
        {
          "output_type": "stream",
          "text": [
            "hasil perpangkatan = 25\n",
            "hasil menggunakan tanda kurung =  25\n",
            "hasil tanpa tanda kurung =  7\n"
          ],
          "name": "stdout"
        }
      ]
    },
    {
      "cell_type": "markdown",
      "metadata": {
        "id": "AlPIUYto6Tch"
      },
      "source": [
        "#Fungsi yang digunakan untuk mengetahui tipe data pada angka yang dihasilkan <br> \n",
        "\n",
        "+ type() digunakan untuk mengetahui tipe data yang digunakan"
      ]
    },
    {
      "cell_type": "code",
      "metadata": {
        "id": "v-7O04sI6TE9",
        "outputId": "31f1115b-99f6-42b1-f118-7a14f926bb28",
        "colab": {
          "base_uri": "https://localhost:8080/",
          "height": 102
        }
      },
      "source": [
        "perhitungan = 10 + 3 * 2\n",
        "print(\"hasil dari perhitungan = \", perhitungan)\n",
        "print(\"type data yang digunakan (variable perhitungan) = \", type(perhitungan))\n",
        "\n",
        "\n",
        "aa = 10 / 2\n",
        "bb = 10 // 7\n",
        "cc = 10 % 7\n",
        "print (\"tipe data dari variable aa =\", type(aa))\n",
        "print (\"hasil pembagian =\", bb, \"Dengan tipe data =\", type(bb))\n",
        "print (\"hasil modulus =\", cc, \"dengan tipe data =\", type(cc))"
      ],
      "execution_count": 28,
      "outputs": [
        {
          "output_type": "stream",
          "text": [
            "hasil dari perhitungan =  16\n",
            "type data yang digunakan (variable perhitungan) =  <class 'int'>\n",
            "tipe data dari variable aa = <class 'float'>\n",
            "hasil pembagian = 1 Dengan tipe data = <class 'int'>\n",
            "hasil modulus =  3 dengan tipe data = <class 'int'>\n"
          ],
          "name": "stdout"
        }
      ]
    }
  ]
}